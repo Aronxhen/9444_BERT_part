{
 "cells": [
  {
   "cell_type": "code",
   "execution_count": null,
   "id": "c3895159",
   "metadata": {},
   "outputs": [],
   "source": [
    "!pip install datasets"
   ]
  },
  {
   "cell_type": "code",
   "execution_count": 1,
   "id": "aa063090",
   "metadata": {},
   "outputs": [],
   "source": [
    "from datasets import load_dataset\n",
    "\n",
    "ds = load_dataset(\"Kwaai/IMDB_Sentiment\")"
   ]
  },
  {
   "cell_type": "code",
   "execution_count": 2,
   "id": "67df7a18",
   "metadata": {},
   "outputs": [
    {
     "name": "stdout",
     "output_type": "stream",
     "text": [
      "DatasetDict({\n",
      "    train: Dataset({\n",
      "        features: ['text', 'label'],\n",
      "        num_rows: 25000\n",
      "    })\n",
      "    test: Dataset({\n",
      "        features: ['text', 'label'],\n",
      "        num_rows: 25000\n",
      "    })\n",
      "    unsupervised: Dataset({\n",
      "        features: ['text', 'label'],\n",
      "        num_rows: 50000\n",
      "    })\n",
      "})\n"
     ]
    }
   ],
   "source": [
    "print(ds)"
   ]
  },
  {
   "cell_type": "code",
   "execution_count": 3,
   "id": "822a8345",
   "metadata": {},
   "outputs": [
    {
     "name": "stdout",
     "output_type": "stream",
     "text": [
      "{'train': Dataset({\n",
      "    features: ['text', 'label'],\n",
      "    num_rows: 35000\n",
      "}), 'validation': Dataset({\n",
      "    features: ['text', 'label'],\n",
      "    num_rows: 10000\n",
      "}), 'test': Dataset({\n",
      "    features: ['text', 'label'],\n",
      "    num_rows: 5000\n",
      "})}\n"
     ]
    }
   ],
   "source": [
    "from datasets import concatenate_datasets\n",
    "\n",
    "# combine train + test a full dataset\n",
    "full_dataset = concatenate_datasets([ds['train'], ds['test']])  # 50,000\n",
    "\n",
    "# train dataset（70%）\n",
    "split1 = full_dataset.train_test_split(test_size=0.3, seed=42)\n",
    "train = split1['train']       # 70%\n",
    "temp = split1['test']         # 20%\n",
    "\n",
    "# validation and test dataset（20%/10%）\n",
    "split2 = temp.train_test_split(test_size=1/3, seed=42)\n",
    "validation = split2['train']\n",
    "test = split2['test']\n",
    "\n",
    "dataset = {\n",
    "    \"train\": train,               # 70%\n",
    "    \"validation\": validation,     # 20%\n",
    "    \"test\": test                  # 10%\n",
    "}\n",
    "\n",
    "print(dataset)"
   ]
  },
  {
   "cell_type": "code",
   "execution_count": 5,
   "id": "de3a0610",
   "metadata": {},
   "outputs": [
    {
     "name": "stdout",
     "output_type": "stream",
     "text": [
      "                                                text  label\n",
      "0  It's a Time Machine all right. It runs in \"rea...      0\n",
      "1  Recognizing the picture of the diner on the co...      0\n",
      "2  Hmm, Hip Hop music to a period western. Modern...      0\n",
      "3  This is a formula B science fiction movie, and...      0\n",
      "4  Strange yet emotionally disturbing chiller abo...      1\n",
      "5  As a fan of Eric Rohmer's studies of the conte...      0\n",
      "6  I am one of Jehovah's Witnesses and I also wor...      1\n",
      "7  Watching Josh Kornbluth 'act' in this movie re...      0\n",
      "8  I had fun watching this movie, mainly due to S...      1\n",
      "9  The penultimate episode of Star Trek's third s...      1\n"
     ]
    }
   ],
   "source": [
    "import pandas as pd\n",
    "\n",
    "df = pd.DataFrame(dataset[\"train\"][:10])\n",
    "print(df)"
   ]
  },
  {
   "cell_type": "code",
   "execution_count": null,
   "id": "42c88d10",
   "metadata": {},
   "outputs": [],
   "source": [
    "dataset['train'].to_csv(\"imdb_train.csv\")\n",
    "dataset['validation'].to_csv(\"imdb_validation.csv\")\n",
    "dataset['test'].to_csv(\"imdb_test.csv\")"
   ]
  }
 ],
 "metadata": {
  "kernelspec": {
   "display_name": "base",
   "language": "python",
   "name": "python3"
  },
  "language_info": {
   "codemirror_mode": {
    "name": "ipython",
    "version": 3
   },
   "file_extension": ".py",
   "mimetype": "text/x-python",
   "name": "python",
   "nbconvert_exporter": "python",
   "pygments_lexer": "ipython3",
   "version": "3.12.4"
  }
 },
 "nbformat": 4,
 "nbformat_minor": 5
}
